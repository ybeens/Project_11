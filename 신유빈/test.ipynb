{
 "cells": [
  {
   "cell_type": "markdown",
   "id": "34ae53b0",
   "metadata": {},
   "source": [
    "테스트입니다"
   ]
  },
  {
   "cell_type": "markdown",
   "id": "714f3826",
   "metadata": {},
   "source": [
    "아녕하세요~ 9시45분"
   ]
  },
  {
   "cell_type": "markdown",
   "id": "2b734cfd",
   "metadata": {},
   "source": [
    "11시 28분"
   ]
  },
  {
   "cell_type": "markdown",
   "id": "fac622fe",
   "metadata": {},
   "source": []
  }
 ],
 "metadata": {
  "kernelspec": {
   "display_name": "base",
   "language": "python",
   "name": "python3"
  },
  "language_info": {
   "codemirror_mode": {
    "name": "ipython",
    "version": 3
   },
   "file_extension": ".py",
   "mimetype": "text/x-python",
   "name": "python",
   "nbconvert_exporter": "python",
   "pygments_lexer": "ipython3",
   "version": "3.11.7"
  }
 },
 "nbformat": 4,
 "nbformat_minor": 5
}
