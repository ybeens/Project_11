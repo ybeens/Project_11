{
 "cells": [
  {
   "cell_type": "markdown",
   "id": "34ae53b0",
   "metadata": {},
   "source": [
    "테스트입니다"
   ]
  },
  {
   "cell_type": "code",
   "execution_count": null,
   "id": "714f3826",
   "metadata": {},
   "outputs": [],
   "source": [
    "아녕하세요~"
   ]
  }
 ],
 "metadata": {
  "language_info": {
   "name": "python"
  }
 },
 "nbformat": 4,
 "nbformat_minor": 5
}
