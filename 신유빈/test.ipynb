{
 "cells": [
  {
   "cell_type": "markdown",
   "id": "34ae53b0",
   "metadata": {},
   "source": [
    "테스트입니다"
   ]
  },
  {
   "cell_type": "markdown",
   "id": "714f3826",
   "metadata": {},
   "source": [
    "아녕하세요~ 9시45분"
   ]
  },
  {
   "cell_type": "code",
   "execution_count": null,
   "id": "2b734cfd",
   "metadata": {},
   "outputs": [],
   "source": []
  }
 ],
 "metadata": {
  "kernelspec": {
   "display_name": "base",
   "language": "python",
   "name": "python3"
  },
  "language_info": {
   "codemirror_mode": {
    "name": "ipython",
    "version": 3
   },
   "file_extension": ".py",
   "mimetype": "text/x-python",
   "name": "python",
   "nbconvert_exporter": "python",
   "pygments_lexer": "ipython3",
   "version": "3.11.7"
  }
 },
 "nbformat": 4,
 "nbformat_minor": 5
}
